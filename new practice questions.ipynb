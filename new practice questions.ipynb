{
 "cells": [
  {
   "cell_type": "markdown",
   "metadata": {},
   "source": [
    "# write a program to remove duplicates from Dictionary.\n"
   ]
  },
  {
   "cell_type": "code",
   "execution_count": 1,
   "metadata": {},
   "outputs": [],
   "source": [
    "student_data = {'id1':\n",
    " {'name': ['Sara'],\n",
    " 'class': ['V'],\n",
    " 'subject_integration': ['english, math, science']\n",
    " },\n",
    "'id2':\n",
    "{'name': ['David'],\n",
    " 'class': ['V'],\n",
    " 'subject_integration': ['english, math, science']\n",
    " },\n",
    "'id3':\n",
    " {'name': ['Sara'],\n",
    " 'class': ['V'],\n",
    " 'subject_integration': ['english, math, science']\n",
    " },\n",
    "'id4':\n",
    " {'name': ['Surya'],\n",
    " 'class': ['V'],\n",
    " 'subject_integration': ['english, math, science']\n",
    " },\n",
    "}\n",
    "result = {}"
   ]
  },
  {
   "cell_type": "code",
   "execution_count": 2,
   "metadata": {},
   "outputs": [
    {
     "name": "stdout",
     "output_type": "stream",
     "text": [
      "{'id1': {'name': ['Sara'], 'class': ['V'], 'subject_integration': ['english, math, science']}, 'id2': {'name': ['David'], 'class': ['V'], 'subject_integration': ['english, math, science']}, 'id4': {'name': ['Surya'], 'class': ['V'], 'subject_integration': ['english, math, science']}}\n"
     ]
    }
   ],
   "source": [
    "for key,values in student_data.items():\n",
    "    if values not in result.values():\n",
    "        result[key] = values\n",
    "print(result)"
   ]
  },
  {
   "cell_type": "markdown",
   "metadata": {},
   "source": [
    "# Write a Python program to get a dictionary from an object's fields.\n"
   ]
  },
  {
   "cell_type": "code",
   "execution_count": 4,
   "metadata": {},
   "outputs": [
    {
     "name": "stdout",
     "output_type": "stream",
     "text": [
      "{'x': 'algorithm', 'y': 'statistics', 'z': 'programming'}\n"
     ]
    }
   ],
   "source": [
    "class dictObj(object):\n",
    "    def __init__(self):\n",
    "        self.x = 'algorithm'\n",
    "        self.y = 'statistics'\n",
    "        self.z = 'programming'\n",
    "    def do_nothing(self):\n",
    "        pass\n",
    "test = dictObj()\n",
    "print(test.__dict__)\n"
   ]
  },
  {
   "cell_type": "markdown",
   "metadata": {},
   "source": [
    "# write a program to combine two dictionary adding values for common keys\n"
   ]
  },
  {
   "cell_type": "code",
   "execution_count": 14,
   "metadata": {},
   "outputs": [
    {
     "name": "stdout",
     "output_type": "stream",
     "text": [
      "{'a': 1300, 'd': 400, 'b': 3400, 'c': 1300}\n"
     ]
    }
   ],
   "source": [
    "d1 = {'a': 1000, 'b': 3200, 'c':1300}\n",
    "d2 = {'a': 300, 'b': 200, 'd':400}\n",
    "result = {}\n",
    "for key,values in d1.items():\n",
    "    for key1,values1 in d2.items():\n",
    "            if key == key1:\n",
    "                result[key1] = values + values1\n",
    "            else:\n",
    "                if key not in d2:\n",
    "                    result[key] = values\n",
    "                elif key1 not in d1:\n",
    "                    result[key1] = values1\n",
    "                    \n",
    "print(result)\n",
    "            \n",
    "            "
   ]
  },
  {
   "cell_type": "markdown",
   "metadata": {},
   "source": [
    "# Alternate method"
   ]
  },
  {
   "cell_type": "code",
   "execution_count": 19,
   "metadata": {},
   "outputs": [
    {
     "name": "stdout",
     "output_type": "stream",
     "text": [
      "Counter({'b': 3400, 'a': 1300, 'c': 1300, 'd': 400})\n"
     ]
    }
   ],
   "source": [
    "from collections import Counter\n",
    "d = Counter(d1) + Counter(d2)\n",
    "print(d)"
   ]
  },
  {
   "cell_type": "markdown",
   "metadata": {},
   "source": [
    "# write a program to print all unique values from a dictionary in a list"
   ]
  },
  {
   "cell_type": "code",
   "execution_count": 32,
   "metadata": {},
   "outputs": [],
   "source": [
    "data = [{\"V\":\"S001\"}, {\"V\": \"S002\"}, {\"VI\": \"S001\"}, {\"VI\": \"S005\"}, {\"VII\":\"S005\"}, {\n",
    "\"V\":\"S009\"},{\"VIII\":\"S007\"}]"
   ]
  },
  {
   "cell_type": "code",
   "execution_count": 33,
   "metadata": {},
   "outputs": [
    {
     "name": "stdout",
     "output_type": "stream",
     "text": [
      "{'S009', 'S001', 'S007', 'S005', 'S002'}\n"
     ]
    }
   ],
   "source": [
    "print(set(val for dic in data for val in dic.values()))\n",
    "            "
   ]
  },
  {
   "cell_type": "markdown",
   "metadata": {},
   "source": [
    "# Create a list of length 3 and Create a list of length 4, For each element in the first list.Display the corresponding index element of the second list\n"
   ]
  },
  {
   "cell_type": "code",
   "execution_count": 35,
   "metadata": {},
   "outputs": [],
   "source": [
    "header = ['data science', 'Blue mix', 'algorithms']\n",
    "match = ['Red hat', 'Blue mixx','Green gold','Orange Ai']\n"
   ]
  },
  {
   "cell_type": "code",
   "execution_count": 36,
   "metadata": {},
   "outputs": [
    {
     "name": "stdout",
     "output_type": "stream",
     "text": [
      "data science : Red hat\n",
      "Blue mix : Blue mixx\n",
      "algorithms : Green gold\n"
     ]
    }
   ],
   "source": [
    "for i,j in zip(header,match):\n",
    "    print(i,':',j)"
   ]
  }
 ],
 "metadata": {
  "kernelspec": {
   "display_name": "Python 3",
   "language": "python",
   "name": "python3"
  },
  "language_info": {
   "codemirror_mode": {
    "name": "ipython",
    "version": 3
   },
   "file_extension": ".py",
   "mimetype": "text/x-python",
   "name": "python",
   "nbconvert_exporter": "python",
   "pygments_lexer": "ipython3",
   "version": "3.8.5"
  }
 },
 "nbformat": 4,
 "nbformat_minor": 4
}
